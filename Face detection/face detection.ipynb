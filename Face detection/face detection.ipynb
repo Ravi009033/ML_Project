{
 "cells": [
  {
   "cell_type": "code",
   "execution_count": 2,
   "id": "7309e178",
   "metadata": {},
   "outputs": [],
   "source": [
    "import cv2"
   ]
  },
  {
   "cell_type": "code",
   "execution_count": 3,
   "id": "2b557dda",
   "metadata": {},
   "outputs": [],
   "source": [
    "#initalise Camera\n",
    "cap = cv2.VideoCapture(0)\n",
    "\n",
    "while True:\n",
    "    ret,frame = cap.read()\n",
    "    \n",
    "    if ret == False:\n",
    "        continue  #skip if frame not captured\n",
    "    \n",
    "    #convert to grayscale    \n",
    "    gray_frame = cv2.cvtColor(frame, cv2.COLOR_BGR2GRAY)\n",
    "    \n",
    "    #display both frames\n",
    "    cv2.imshow(\"Video Frame\", frame)\n",
    "    cv2.imshow(\"Gray Frame\", gray_frame)\n",
    "    \n",
    "    # Exit on 'q' key press\n",
    "    key_pressed = cv2.waitKey(1) & 0xFF\n",
    "    if key_pressed == ord('q'):\n",
    "        break\n",
    "        \n",
    "#Realease camera and destroy window        \n",
    "cap.release()\n",
    "cv2.destroyAllWindows()"
   ]
  },
  {
   "cell_type": "code",
   "execution_count": 5,
   "id": "82d86a92",
   "metadata": {},
   "outputs": [],
   "source": [
    "#Initialize webcam\n",
    "cap = cv2.VideoCapture(0)\n",
    "\n",
    "# Load Haar cascade forface detection\n",
    "face_cascade = cv2.CascadeClassifier(cv2.data.haarcascades + \"haarcascade_frontalface_alt.xml\")\n",
    "\n",
    "# Check if the cascade file loaded correctly\n",
    "if face_cascade.empty():\n",
    "    print(\"Error loading Haar cascade file\")\n",
    "    exit()\n",
    "\n",
    "\n",
    "while True:\n",
    "    ret,frame = cap.read()\n",
    "    \n",
    "    # Convert frame to grayscale\n",
    "    gray_frame = cv2.cvtColor(frame, cv2.COLOR_BGR2GRAY)\n",
    "    \n",
    "    if ret == False:\n",
    "        continue\n",
    "        \n",
    "    #detect multiple faces  \n",
    "    faces = face_cascade.detectMultiScale(gray_frame,1.3,5)   \n",
    "        \n",
    "    # Draw rectangles around faces\n",
    "    for (x,y,w,h) in faces:\n",
    "        cv2.rectangle(frame, (x,y),(x+w,y+h), (255,0,0),2)\n",
    "        \n",
    "    # Display the frame    \n",
    "    cv2.imshow(\"Video Frame\", frame)\n",
    "    \n",
    "    # Exit on 'q' key press\n",
    "    key_pressed = cv2.waitKey(1) & 0xFF\n",
    "    if key_pressed == ord('q'):\n",
    "        break\n",
    "        \n",
    "#Realease camera and destroy window        \n",
    "cap.release()\n",
    "cv2.destroyAllWindows()"
   ]
  },
  {
   "cell_type": "code",
   "execution_count": null,
   "id": "f572c5a8",
   "metadata": {},
   "outputs": [],
   "source": []
  }
 ],
 "metadata": {
  "kernelspec": {
   "display_name": "Python 3",
   "language": "python",
   "name": "python3"
  },
  "language_info": {
   "codemirror_mode": {
    "name": "ipython",
    "version": 3
   },
   "file_extension": ".py",
   "mimetype": "text/x-python",
   "name": "python",
   "nbconvert_exporter": "python",
   "pygments_lexer": "ipython3",
   "version": "3.8.8"
  }
 },
 "nbformat": 4,
 "nbformat_minor": 5
}
